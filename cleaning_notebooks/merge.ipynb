{
 "cells": [
  {
   "cell_type": "code",
   "execution_count": 28,
   "metadata": {},
   "outputs": [
    {
     "name": "stdout",
     "output_type": "stream",
     "text": [
      "Index(['Unnamed: 0', 'Run', 'avgLength', 'size_MB', 'Sample', 'LibraryLayout',\n",
      "       'Experiment', 'SRAStudy'],\n",
      "      dtype='object')\n",
      "Index(['BioSample', 'SRA', 'Geographic location', 'Latitude', 'Longitude'], dtype='object')\n"
     ]
    }
   ],
   "source": [
    "import pandas as pd\n",
    "\n",
    "df_paired = pd.read_csv('paired_samples.csv')\n",
    "df_metadatos = pd.read_csv('metadatos.csv')\n",
    "print(df_paired.columns)\n",
    "print(df_metadatos.columns)"
   ]
  },
  {
   "cell_type": "code",
   "execution_count": 29,
   "metadata": {},
   "outputs": [],
   "source": [
    "df_paired['SRA'] = df_paired['Sample']\n",
    "df_merged = df_paired.merge(df_metadatos[['SRA', 'BioSample', 'Geographic location', 'Latitude', 'Longitude']], on='SRA', how='left')\n",
    "df_merged.to_csv('merged_data.csv')"
   ]
  }
 ],
 "metadata": {
  "language_info": {
   "name": "python"
  }
 },
 "nbformat": 4,
 "nbformat_minor": 2
}

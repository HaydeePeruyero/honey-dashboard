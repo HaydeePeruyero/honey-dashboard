{
 "cells": [
  {
   "cell_type": "code",
   "execution_count": 1,
   "id": "b5fef32f",
   "metadata": {},
   "outputs": [],
   "source": [
    "import pandas as pd \n",
    "import csv"
   ]
  },
  {
   "cell_type": "code",
   "execution_count": 2,
   "id": "7d9653d9",
   "metadata": {
    "scrolled": true
   },
   "outputs": [],
   "source": [
    "df = pd.read_csv('honey.csv')"
   ]
  },
  {
   "cell_type": "code",
   "execution_count": 3,
   "id": "34e4856a",
   "metadata": {},
   "outputs": [
    {
     "data": {
      "text/plain": [
       "Index(['Run', 'ReleaseDate', 'LoadDate', 'spots', 'bases', 'spots_with_mates',\n",
       "       'avgLength', 'size_MB', 'AssemblyName', 'download_path', 'Experiment',\n",
       "       'LibraryName', 'LibraryStrategy', 'LibrarySelection', 'LibrarySource',\n",
       "       'LibraryLayout', 'InsertSize', 'InsertDev', 'Platform', 'Model',\n",
       "       'SRAStudy', 'BioProject', 'Study_Pubmed_id', 'ProjectID', 'Sample',\n",
       "       'BioSample', 'SampleType', 'TaxID', 'ScientificName', 'SampleName',\n",
       "       'g1k_pop_code', 'source', 'g1k_analysis_group', 'Subject_ID', 'Sex',\n",
       "       'Disease', 'Tumor', 'Affection_Status', 'Analyte_Type',\n",
       "       'Histological_Type', 'Body_Site', 'CenterName', 'Submission',\n",
       "       'dbgap_study_accession', 'Consent', 'RunHash', 'ReadHash'],\n",
       "      dtype='object')"
      ]
     },
     "execution_count": 3,
     "metadata": {},
     "output_type": "execute_result"
    }
   ],
   "source": [
    "df.columns\n"
   ]
  },
  {
   "cell_type": "code",
   "execution_count": 9,
   "id": "154b42e0",
   "metadata": {
    "scrolled": false
   },
   "outputs": [
    {
     "name": "stdout",
     "output_type": "stream",
     "text": [
      "<class 'pandas.core.indexes.base.Index'>\n"
     ]
    }
   ],
   "source": [
    "output = pd.read_csv('salidad.csv')\n",
    "print(type(output.columns))"
   ]
  },
  {
   "cell_type": "code",
   "execution_count": 7,
   "id": "ce05b316",
   "metadata": {},
   "outputs": [
    {
     "name": "stdout",
     "output_type": "stream",
     "text": [
      "         BioSample          SRA                      Host     Accession  \\\n",
      "0     SAMN03098910    SRS721669  Apis mellifera mellifera  SAMN03098910   \n",
      "1     SAMN03349284    SRS859919                     Honey  SAMN03349284   \n",
      "2     SAMN03349285    SRS859928                     Honey  SAMN03349285   \n",
      "3     SAMN03349286    SRS859920                     Honey  SAMN03349286   \n",
      "4     SAMN03349287    SRS859921                     Honey  SAMN03349287   \n",
      "...            ...          ...                       ...           ...   \n",
      "2186  SAMN46226186  SRS23765532                       NaN  SAMN46226186   \n",
      "2187  SAMN46226187  SRS23765534                       NaN  SAMN46226187   \n",
      "2188  SAMN46226188  SRS23765535                       NaN  SAMN46226188   \n",
      "2189  SAMN46226189  SRS23765536                       NaN  SAMN46226189   \n",
      "2190  SAMN48147173  SRS24863478                     honey  SAMN48147173   \n",
      "\n",
      "                                    Geographic location   Latitude Longitude  \\\n",
      "0                             United Kingdom: Northwest        NaN       NaN   \n",
      "1             United Kingdom: Aberdovey, Gwynedd, Wales  52.587166         N   \n",
      "2             United Kingdom: Aberdovey, Gwynedd, Wales  52.587166         N   \n",
      "3             United Kingdom: East Cowes, Isle of Wight  50.735613         N   \n",
      "4     United Kingdom: Cwmpengraig, Carmarthenshire, ...  51.840725         N   \n",
      "...                                                 ...        ...       ...   \n",
      "2186                                 Kazakhstan: Almaty      43.23         N   \n",
      "2187                                 Kazakhstan: Almaty      43.23         N   \n",
      "2188                                 Kazakhstan: Almaty      43.23         N   \n",
      "2189                                 Kazakhstan: Almaty      43.23         N   \n",
      "2190                        Brazil:So Gabriel, UNIPAMPA    30.2009         S   \n",
      "\n",
      "              Organism Isolation source Collection date  \n",
      "0     honey metagenome              NaN      2012-04-07  \n",
      "1     honey metagenome            Honey            2012  \n",
      "2     honey metagenome            Honey            2012  \n",
      "3     honey metagenome            Honey            2012  \n",
      "4     honey metagenome            Honey            2012  \n",
      "...                ...              ...             ...  \n",
      "2186  honey metagenome              NaN      2024-01-16  \n",
      "2187  honey metagenome              NaN      2024-01-16  \n",
      "2188  honey metagenome              NaN      2024-01-16  \n",
      "2189  honey metagenome              NaN      2024-01-16  \n",
      "2190  honey metagenome  Langstroth hive         2024-11  \n",
      "\n",
      "[2191 rows x 10 columns]\n"
     ]
    }
   ],
   "source": [
    "print(output)"
   ]
  },
  {
   "cell_type": "code",
   "execution_count": 8,
   "id": "2f747f7f",
   "metadata": {},
   "outputs": [
    {
     "ename": "ModuleNotFoundError",
     "evalue": "No module named 'polars'",
     "output_type": "error",
     "traceback": [
      "\u001b[0;31m---------------------------------------------------------------------------\u001b[0m",
      "\u001b[0;31mModuleNotFoundError\u001b[0m                       Traceback (most recent call last)",
      "\u001b[0;32m/tmp/ipykernel_1213406/1087648309.py\u001b[0m in \u001b[0;36m<module>\u001b[0;34m\u001b[0m\n\u001b[0;32m----> 1\u001b[0;31m \u001b[0;32mimport\u001b[0m \u001b[0mpolars\u001b[0m\u001b[0;34m\u001b[0m\u001b[0;34m\u001b[0m\u001b[0m\n\u001b[0m",
      "\u001b[0;31mModuleNotFoundError\u001b[0m: No module named 'polars'"
     ]
    }
   ],
   "source": []
  }
 ],
 "metadata": {
  "kernelspec": {
   "display_name": "TDA",
   "language": "python",
   "name": "tda"
  },
  "language_info": {
   "codemirror_mode": {
    "name": "ipython",
    "version": 3
   },
   "file_extension": ".py",
   "mimetype": "text/x-python",
   "name": "python",
   "nbconvert_exporter": "python",
   "pygments_lexer": "ipython3",
   "version": "3.7.12"
  }
 },
 "nbformat": 4,
 "nbformat_minor": 5
}

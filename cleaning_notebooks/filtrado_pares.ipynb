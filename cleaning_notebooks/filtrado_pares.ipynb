{
 "cells": [
  {
   "cell_type": "markdown",
   "id": "c4af0b20",
   "metadata": {},
   "source": [
    "### Filtrado de muestras simples y pareadas \n",
    "\n"
   ]
  },
  {
   "cell_type": "code",
   "execution_count": 26,
   "id": "b5fef32f",
   "metadata": {},
   "outputs": [],
   "source": [
    "import pandas as pd \n",
    "import csv"
   ]
  },
  {
   "cell_type": "markdown",
   "id": "5786d9a4",
   "metadata": {},
   "source": [
    "### Filtrado por coulmnas "
   ]
  },
  {
   "cell_type": "code",
   "execution_count": 33,
   "id": "7d9653d9",
   "metadata": {
    "scrolled": true
   },
   "outputs": [],
   "source": [
    "df = pd.read_csv('../Data/honey_wgs.csv')"
   ]
  },
  {
   "cell_type": "code",
   "execution_count": 34,
   "id": "34e4856a",
   "metadata": {},
   "outputs": [],
   "source": [
    "df = df[['Run', 'avgLength', 'size_MB', 'Sample', 'LibraryLayout', 'Experiment', 'SRAStudy']].copy()"
   ]
  },
  {
   "cell_type": "code",
   "execution_count": 35,
   "id": "087d4e1d",
   "metadata": {},
   "outputs": [
    {
     "name": "stdout",
     "output_type": "stream",
     "text": [
      "Index(['Run', 'avgLength', 'size_MB', 'Sample', 'LibraryLayout', 'Experiment',\n",
      "       'SRAStudy'],\n",
      "      dtype='object')\n"
     ]
    }
   ],
   "source": [
    "print(df.columns)"
   ]
  },
  {
   "cell_type": "code",
   "execution_count": 36,
   "id": "154b42e0",
   "metadata": {
    "scrolled": false
   },
   "outputs": [
    {
     "data": {
      "text/plain": [
       "426"
      ]
     },
     "execution_count": 36,
     "metadata": {},
     "output_type": "execute_result"
    }
   ],
   "source": [
    "len(df)"
   ]
  },
  {
   "cell_type": "markdown",
   "id": "381c60e2",
   "metadata": {},
   "source": [
    "### Filtrado unicamente de las muestras pareados"
   ]
  },
  {
   "cell_type": "code",
   "execution_count": 37,
   "id": "ce05b316",
   "metadata": {},
   "outputs": [
    {
     "name": "stdout",
     "output_type": "stream",
     "text": [
      "55\n"
     ]
    }
   ],
   "source": [
    "df = df[df['LibraryLayout'] == \"PAIRED\"]\n",
    "print(len(df))\n",
    "df.to_csv('Paired_samples.csv')"
   ]
  }
 ],
 "metadata": {
  "kernelspec": {
   "display_name": "automation-venv",
   "language": "python",
   "name": "python3"
  },
  "language_info": {
   "codemirror_mode": {
    "name": "ipython",
    "version": 3
   },
   "file_extension": ".py",
   "mimetype": "text/x-python",
   "name": "python",
   "nbconvert_exporter": "python",
   "pygments_lexer": "ipython3",
   "version": "3.13.5"
  }
 },
 "nbformat": 4,
 "nbformat_minor": 5
}
